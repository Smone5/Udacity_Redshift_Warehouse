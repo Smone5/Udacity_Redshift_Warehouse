{
 "cells": [
  {
   "cell_type": "code",
   "execution_count": 1,
   "metadata": {
    "editable": true
   },
   "outputs": [],
   "source": [
    "import pandas as pd\n",
    "import configparser\n",
    "import psycopg2\n",
    "import os"
   ]
  },
  {
   "cell_type": "code",
   "execution_count": 2,
   "metadata": {
    "editable": true
   },
   "outputs": [
    {
     "data": {
      "text/plain": [
       "'/home/workspace'"
      ]
     },
     "execution_count": 2,
     "metadata": {},
     "output_type": "execute_result"
    }
   ],
   "source": [
    "# move up one directory for config files\n",
    "os.chdir('..')\n",
    "os.getcwd()"
   ]
  },
  {
   "cell_type": "code",
   "execution_count": 3,
   "metadata": {
    "editable": true
   },
   "outputs": [],
   "source": [
    "config = configparser.ConfigParser()\n",
    "config.read('dwh.cfg')\n",
    "    \n",
    "host = config['CLUSTER']['DB_ENDPOINT']\n",
    "dbname = config['CLUSTER']['DB_NAME']\n",
    "user = config['CLUSTER']['DB_USER']\n",
    "password = config['CLUSTER']['DB_PASSWORD']\n",
    "port = config['CLUSTER']['DB_PORT']\n",
    "\n",
    "conn = psycopg2.connect(\"host={} dbname={} user={} password={} port={}\".format(host, dbname, user, password, port))\n",
    "cur = conn.cursor()"
   ]
  },
  {
   "cell_type": "code",
   "execution_count": 4,
   "metadata": {
    "editable": true
   },
   "outputs": [],
   "source": [
    "table_names = ['song_stage', 'event_stage','dim_user', 'dim_song', 'dim_artist', 'dim_time', 'fact_sonplay']"
   ]
  },
  {
   "cell_type": "code",
   "execution_count": 5,
   "metadata": {
    "editable": true
   },
   "outputs": [],
   "source": [
    "# Create Row Count Check Queries\n",
    "\n",
    "song_stage_count = ('''\n",
    "SELECT Count(*)\n",
    "FROM song_stage\n",
    ";\n",
    "''')\n",
    "\n",
    "event_stage_count = ('''\n",
    "SELECT Count(*)\n",
    "FROM event_stage\n",
    ";\n",
    "''')\n",
    "\n",
    "user_table_count = ('''\n",
    "SELECT Count(*)\n",
    "FROM dim_user\n",
    ";\n",
    "''')\n",
    "\n",
    "song_table_count = ('''\n",
    "SELECT Count(*)\n",
    "FROM dim_song\n",
    ";\n",
    "''')\n",
    "\n",
    "artist_table_count =('''\n",
    "SELECT Count(*)\n",
    "FROM dim_artist\n",
    ";\n",
    "''')\n",
    "\n",
    "time_table_count = ('''\n",
    "SELECT Count(*)\n",
    "FROM dim_time\n",
    ";\n",
    "''')\n",
    "\n",
    "\n",
    "fact_table_count = ('''\n",
    "SELECT Count(*)\n",
    "FROM fact_songplay\n",
    ";\n",
    "''')"
   ]
  },
  {
   "cell_type": "code",
   "execution_count": 6,
   "metadata": {
    "editable": true
   },
   "outputs": [
    {
     "name": "stdout",
     "output_type": "stream",
     "text": [
      "Check Row Count Table song_stage\n",
      "14896\n",
      "Check Row Count Table event_stage\n",
      "8056\n",
      "Check Row Count Table dim_user\n",
      "104\n",
      "Check Row Count Table dim_song\n",
      "14896\n",
      "Check Row Count Table dim_artist\n",
      "201\n",
      "Check Row Count Table dim_time\n",
      "6813\n",
      "Check Row Count Table fact_sonplay\n",
      "6820\n"
     ]
    }
   ],
   "source": [
    "# Execute Row Count Check Queries\n",
    "\n",
    "count_rows_queries = [song_stage_count, event_stage_count, user_table_count, song_table_count, artist_table_count, time_table_count, fact_table_count]\n",
    "for i in range(len(count_rows_queries)):\n",
    "    \n",
    "    df = pd.read_sql(count_rows_queries[i], conn)\n",
    "    value = df.values[0][0]\n",
    "    print(\"Row count in table {}: {}\".format(table_names[i], value))"
   ]
  },
  {
   "cell_type": "markdown",
   "metadata": {
    "editable": true
   },
   "source": [
    "Event Stage has \n",
    "+ 8056 unfilted rows \n",
    "+ 6820 NextSong rows\n"
   ]
  },
  {
   "cell_type": "code",
   "execution_count": 9,
   "metadata": {
    "editable": true
   },
   "outputs": [],
   "source": [
    "query = '''\n",
    "SELECT *\n",
    "FROM fact_songplay\n",
    "LIMIT 30;\n",
    "'''"
   ]
  },
  {
   "cell_type": "code",
   "execution_count": 12,
   "metadata": {
    "editable": true
   },
   "outputs": [
    {
     "data": {
      "text/html": [
       "<div>\n",
       "<style scoped>\n",
       "    .dataframe tbody tr th:only-of-type {\n",
       "        vertical-align: middle;\n",
       "    }\n",
       "\n",
       "    .dataframe tbody tr th {\n",
       "        vertical-align: top;\n",
       "    }\n",
       "\n",
       "    .dataframe thead th {\n",
       "        text-align: right;\n",
       "    }\n",
       "</style>\n",
       "<table border=\"1\" class=\"dataframe\">\n",
       "  <thead>\n",
       "    <tr style=\"text-align: right;\">\n",
       "      <th></th>\n",
       "      <th>songplay_id</th>\n",
       "      <th>start_time</th>\n",
       "      <th>user_id</th>\n",
       "      <th>level</th>\n",
       "      <th>song_id</th>\n",
       "      <th>artist_id</th>\n",
       "      <th>session_id</th>\n",
       "      <th>location</th>\n",
       "      <th>user_agent</th>\n",
       "    </tr>\n",
       "  </thead>\n",
       "  <tbody>\n",
       "    <tr>\n",
       "      <th>0</th>\n",
       "      <td>2937218</td>\n",
       "      <td>1541689317796</td>\n",
       "      <td>29</td>\n",
       "      <td>paid</td>\n",
       "      <td>SOFVOQL12A6D4F7456</td>\n",
       "      <td>ARPN0Y61187B9ABAA0</td>\n",
       "      <td>18</td>\n",
       "      <td>Atlanta-Sandy Springs-Roswell, GA</td>\n",
       "      <td>\"Mozilla/5.0 (Macintosh; Intel Mac OS X 10_9_4...</td>\n",
       "    </tr>\n",
       "    <tr>\n",
       "      <th>1</th>\n",
       "      <td>8874436</td>\n",
       "      <td>1542793738796</td>\n",
       "      <td>88</td>\n",
       "      <td>paid</td>\n",
       "      <td>SOTNHIP12AB0183131</td>\n",
       "      <td>ARD46C811C8A414F3F</td>\n",
       "      <td>36</td>\n",
       "      <td>Sacramento--Roseville--Arden-Arcade, CA</td>\n",
       "      <td>\"Mozilla/5.0 (Macintosh; Intel Mac OS X 10_9_4...</td>\n",
       "    </tr>\n",
       "    <tr>\n",
       "      <th>2</th>\n",
       "      <td>282701</td>\n",
       "      <td>1543344778796</td>\n",
       "      <td>28</td>\n",
       "      <td>free</td>\n",
       "      <td>SOEKSGJ12A67AE227E</td>\n",
       "      <td>ARQUMH41187B9AF699</td>\n",
       "      <td>1</td>\n",
       "      <td>Portland-Vancouver-Hillsboro, OR-WA</td>\n",
       "      <td>Mozilla/5.0 (Windows NT 5.1; rv:31.0) Gecko/20...</td>\n",
       "    </tr>\n",
       "    <tr>\n",
       "      <th>3</th>\n",
       "      <td>4963015</td>\n",
       "      <td>1542317145796</td>\n",
       "      <td>49</td>\n",
       "      <td>paid</td>\n",
       "      <td>SOKHAAU12A6D4F71EF</td>\n",
       "      <td>ARDD09D1187B99AD60</td>\n",
       "      <td>15</td>\n",
       "      <td>San Francisco-Oakland-Hayward, CA</td>\n",
       "      <td>Mozilla/5.0 (Windows NT 5.1; rv:31.0) Gecko/20...</td>\n",
       "    </tr>\n",
       "    <tr>\n",
       "      <th>4</th>\n",
       "      <td>4964821</td>\n",
       "      <td>1542401921796</td>\n",
       "      <td>49</td>\n",
       "      <td>paid</td>\n",
       "      <td>None</td>\n",
       "      <td>None</td>\n",
       "      <td>21</td>\n",
       "      <td>San Francisco-Oakland-Hayward, CA</td>\n",
       "      <td>Mozilla/5.0 (Windows NT 5.1; rv:31.0) Gecko/20...</td>\n",
       "    </tr>\n",
       "    <tr>\n",
       "      <th>5</th>\n",
       "      <td>836930</td>\n",
       "      <td>1542508401796</td>\n",
       "      <td>83</td>\n",
       "      <td>free</td>\n",
       "      <td>None</td>\n",
       "      <td>None</td>\n",
       "      <td>0</td>\n",
       "      <td>Lubbock, TX</td>\n",
       "      <td>\"Mozilla/5.0 (Macintosh; Intel Mac OS X 10_9_4...</td>\n",
       "    </tr>\n",
       "    <tr>\n",
       "      <th>6</th>\n",
       "      <td>585228</td>\n",
       "      <td>1542184462796</td>\n",
       "      <td>58</td>\n",
       "      <td>paid</td>\n",
       "      <td>None</td>\n",
       "      <td>None</td>\n",
       "      <td>8</td>\n",
       "      <td>Augusta-Richmond County, GA-SC</td>\n",
       "      <td>\"Mozilla/5.0 (Windows NT 6.3; WOW64) AppleWebK...</td>\n",
       "    </tr>\n",
       "    <tr>\n",
       "      <th>7</th>\n",
       "      <td>5885219</td>\n",
       "      <td>1542991831796</td>\n",
       "      <td>58</td>\n",
       "      <td>paid</td>\n",
       "      <td>None</td>\n",
       "      <td>None</td>\n",
       "      <td>19</td>\n",
       "      <td>Augusta-Richmond County, GA-SC</td>\n",
       "      <td>\"Mozilla/5.0 (Windows NT 6.3; WOW64) AppleWebK...</td>\n",
       "    </tr>\n",
       "    <tr>\n",
       "      <th>8</th>\n",
       "      <td>2467272</td>\n",
       "      <td>1542610939796</td>\n",
       "      <td>24</td>\n",
       "      <td>paid</td>\n",
       "      <td>None</td>\n",
       "      <td>None</td>\n",
       "      <td>72</td>\n",
       "      <td>Lake Havasu City-Kingman, AZ</td>\n",
       "      <td>\"Mozilla/5.0 (Windows NT 6.1; WOW64) AppleWebK...</td>\n",
       "    </tr>\n",
       "    <tr>\n",
       "      <th>9</th>\n",
       "      <td>381070</td>\n",
       "      <td>1543282396796</td>\n",
       "      <td>38</td>\n",
       "      <td>free</td>\n",
       "      <td>None</td>\n",
       "      <td>None</td>\n",
       "      <td>0</td>\n",
       "      <td>New York-Newark-Jersey City, NY-NJ-PA</td>\n",
       "      <td>\"Mozilla/5.0 (Macintosh; Intel Mac OS X 10_9_4...</td>\n",
       "    </tr>\n",
       "  </tbody>\n",
       "</table>\n",
       "</div>"
      ],
      "text/plain": [
       "  songplay_id     start_time  user_id level             song_id  \\\n",
       "0     2937218  1541689317796       29  paid  SOFVOQL12A6D4F7456   \n",
       "1     8874436  1542793738796       88  paid  SOTNHIP12AB0183131   \n",
       "2      282701  1543344778796       28  free  SOEKSGJ12A67AE227E   \n",
       "3     4963015  1542317145796       49  paid  SOKHAAU12A6D4F71EF   \n",
       "4     4964821  1542401921796       49  paid                None   \n",
       "5      836930  1542508401796       83  free                None   \n",
       "6      585228  1542184462796       58  paid                None   \n",
       "7     5885219  1542991831796       58  paid                None   \n",
       "8     2467272  1542610939796       24  paid                None   \n",
       "9      381070  1543282396796       38  free                None   \n",
       "\n",
       "            artist_id  session_id                                 location  \\\n",
       "0  ARPN0Y61187B9ABAA0          18        Atlanta-Sandy Springs-Roswell, GA   \n",
       "1  ARD46C811C8A414F3F          36  Sacramento--Roseville--Arden-Arcade, CA   \n",
       "2  ARQUMH41187B9AF699           1      Portland-Vancouver-Hillsboro, OR-WA   \n",
       "3  ARDD09D1187B99AD60          15        San Francisco-Oakland-Hayward, CA   \n",
       "4                None          21        San Francisco-Oakland-Hayward, CA   \n",
       "5                None           0                              Lubbock, TX   \n",
       "6                None           8           Augusta-Richmond County, GA-SC   \n",
       "7                None          19           Augusta-Richmond County, GA-SC   \n",
       "8                None          72             Lake Havasu City-Kingman, AZ   \n",
       "9                None           0    New York-Newark-Jersey City, NY-NJ-PA   \n",
       "\n",
       "                                          user_agent  \n",
       "0  \"Mozilla/5.0 (Macintosh; Intel Mac OS X 10_9_4...  \n",
       "1  \"Mozilla/5.0 (Macintosh; Intel Mac OS X 10_9_4...  \n",
       "2  Mozilla/5.0 (Windows NT 5.1; rv:31.0) Gecko/20...  \n",
       "3  Mozilla/5.0 (Windows NT 5.1; rv:31.0) Gecko/20...  \n",
       "4  Mozilla/5.0 (Windows NT 5.1; rv:31.0) Gecko/20...  \n",
       "5  \"Mozilla/5.0 (Macintosh; Intel Mac OS X 10_9_4...  \n",
       "6  \"Mozilla/5.0 (Windows NT 6.3; WOW64) AppleWebK...  \n",
       "7  \"Mozilla/5.0 (Windows NT 6.3; WOW64) AppleWebK...  \n",
       "8  \"Mozilla/5.0 (Windows NT 6.1; WOW64) AppleWebK...  \n",
       "9  \"Mozilla/5.0 (Macintosh; Intel Mac OS X 10_9_4...  "
      ]
     },
     "execution_count": 12,
     "metadata": {},
     "output_type": "execute_result"
    }
   ],
   "source": [
    "df = pd.read_sql(query, conn)\n",
    "df[0:10]"
   ]
  },
  {
   "cell_type": "code",
   "execution_count": 21,
   "metadata": {
    "editable": true
   },
   "outputs": [],
   "source": [
    "# Create Duplication Check Queries\n",
    "\n",
    "user_table_dups = ('''\n",
    "SELECT user_id, first_name, last_name, level, COUNT(*)\n",
    "FROM sparkify.dim_user\n",
    "GROUP BY user_id, first_name, last_name, level\n",
    "ORDER BY COUNT(*) DESC\n",
    "LIMIT 5\n",
    ";\n",
    "''')\n",
    "\n",
    "song_table_dups = ('''\n",
    "SELECT\n",
    "    s.song_id,\n",
    "    s.title,\n",
    "    COUNT(*)\n",
    "FROM dim_song s\n",
    "GROUP BY s.song_id, s.title\n",
    "ORDER BY COUNT(*) DESC\n",
    "LIMIT 5;\n",
    "''')\n",
    "\n",
    "artist_table_dups =('''\n",
    "SELECT\n",
    "    a.artist_id,\n",
    "    a.name,\n",
    "    COUNT(*)\n",
    "FROM dim_artist a\n",
    "GROUP BY a.artist_id, a.name\n",
    "ORDER BY COUNT(*) DESC\n",
    "LIMIT 5;\n",
    "''')\n",
    "\n",
    "time_table_dups = ('''\n",
    "SELECT\n",
    "    t.time_key,\n",
    "    COUNT(*)\n",
    "FROM dim_time t\n",
    "GROUP BY t.time_key\n",
    "ORDER BY COUNT(*) DESC\n",
    "LIMIT 5;\n",
    "''')\n",
    "\n",
    "\n",
    "\n"
   ]
  },
  {
   "cell_type": "code",
   "execution_count": 27,
   "metadata": {
    "editable": true
   },
   "outputs": [
    {
     "name": "stdout",
     "output_type": "stream",
     "text": [
      "Check Row Count Table dim_user...\n",
      "No rows duplicated in table dim_user\n",
      "\n",
      "Check Row Count Table dim_song...\n",
      "No rows duplicated in table dim_song\n",
      "\n",
      "Check Row Count Table dim_artist...\n",
      "No rows duplicated in table dim_artist\n",
      "\n",
      "Check Row Count Table dim_time...\n",
      "No rows duplicated in table dim_time\n",
      "\n"
     ]
    }
   ],
   "source": [
    "# Execute Duplication Check Queries\n",
    "\n",
    "# Function\n",
    "## Inputs a query, sql connection and table name\n",
    "## Ouputs if query producted duplicates or not with statement\n",
    "def check_duplicates(query, conn, table):\n",
    "\n",
    "    count_df = pd.read_sql(query, conn)\n",
    "    count_s = count_df['count']\n",
    "    total_count = 0\n",
    "    for val in count_s:\n",
    "        if val == 1:\n",
    "            total_count += 0\n",
    "        \n",
    "    if total_count > 0:\n",
    "        return(print(\"Rows duplicated in table {}\".format(table)))\n",
    "        \n",
    "    else:\n",
    "        return(print(\"No rows duplicated in table {}\".format(table)))\n",
    "    \n",
    "\n",
    "check_duplicate_queries = [user_table_dups, song_table_dups, artist_table_dups, time_table_dups]\n",
    "table_names = ['dim_user', 'dim_song', 'dim_artist', 'dim_time']\n",
    "\n",
    "duplicate_check_queries = [user_table_count, song_table_count, artist_table_count, time_table_count]\n",
    "for i in range(len(duplicate_check_queries)):\n",
    "        print()\n",
    "        print(\"Check Duplications Table {}...\".format(table_names[i]))\n",
    "        check_duplicates(duplicate_check_queries[i], conn, table_names[i])\n",
    "       \n",
    "\n"
   ]
  },
  {
   "cell_type": "code",
   "execution_count": null,
   "metadata": {
    "editable": true
   },
   "outputs": [],
   "source": []
  }
 ],
 "metadata": {
  "kernelspec": {
   "display_name": "Python 3",
   "language": "python",
   "name": "python3"
  },
  "language_info": {
   "codemirror_mode": {
    "name": "ipython",
    "version": 3
   },
   "file_extension": ".py",
   "mimetype": "text/x-python",
   "name": "python",
   "nbconvert_exporter": "python",
   "pygments_lexer": "ipython3",
   "version": "3.6.3"
  }
 },
 "nbformat": 4,
 "nbformat_minor": 4
}
